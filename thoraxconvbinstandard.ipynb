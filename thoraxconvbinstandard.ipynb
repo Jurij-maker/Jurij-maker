{
  "nbformat": 4,
  "nbformat_minor": 0,
  "metadata": {
    "colab": {
      "name": "thoraxconvbinstandard.ipynb",
      "provenance": [],
      "collapsed_sections": [],
      "mount_file_id": "1lZUOIO3sUjMCYd6JC1GaGyLEiDgrpUWJ",
      "authorship_tag": "ABX9TyNSFAvDaxw7wyCqYc3Q8UvC",
      "include_colab_link": true
    },
    "kernelspec": {
      "name": "python3",
      "display_name": "Python 3"
    },
    "language_info": {
      "name": "python"
    }
  },
  "cells": [
    {
      "cell_type": "markdown",
      "metadata": {
        "id": "view-in-github",
        "colab_type": "text"
      },
      "source": [
        "<a href=\"https://colab.research.google.com/github/Jurij-maker/Jurij-maker/blob/main/thoraxconvbinstandard.ipynb\" target=\"_parent\"><img src=\"https://colab.research.google.com/assets/colab-badge.svg\" alt=\"Open In Colab\"/></a>"
      ]
    },
    {
      "cell_type": "code",
      "execution_count": null,
      "metadata": {
        "id": "7PYLmJC7Us2k"
      },
      "outputs": [],
      "source": [
        ""
      ]
    },
    {
      "cell_type": "markdown",
      "source": [
        "Jurij Schaber\n",
        "einfaches convolutional network zur binären Klassifizierung\n",
        "von Pneumonien:"
      ],
      "metadata": {
        "id": "NE_W0mOuZ13v"
      }
    },
    {
      "cell_type": "markdown",
      "source": [
        "Importieren der Daten"
      ],
      "metadata": {
        "id": "s2hLji9UaN0K"
      }
    },
    {
      "cell_type": "code",
      "metadata": {
        "id": "NR_M9nWN-K8B"
      },
      "source": [
        "import os\n",
        "\n",
        "# Directory with our training data normal thorax\n",
        "train_normal = os.path.join('/content/drive/MyDrive/chest_xray/train/NORMAL')\n",
        "\n",
        "# Directory with our training data pneumonia\n",
        "train_pneumonia = os.path.join('/content/drive/MyDrive/chest_xray/train/PNEUMONIA')\n",
        "\n",
        "# Directory with our validation data normal thorax\n",
        "valid_normal = os.path.join('/content/drive/MyDrive/chest_xray/val/NORMAL')\n",
        "\n",
        "# Directory with our validation data pneumonia\n",
        "valid_pneumonia = os.path.join('/content/drive/MyDrive/chest_xray/val/PNEUMONIA')\n",
        "\n",
        "# Directory with our validation data normal thorax\n",
        "test_normal = os.path.join('/content/drive/MyDrive/chest_xray/test/NORMAL')\n",
        "\n",
        "# Directory with our validation data pneumonia\n",
        "test_pneumonia = os.path.join('/content/drive/MyDrive/chest_xray/test/PNEUMONIA')\n",
        "\n"
      ],
      "execution_count": 1,
      "outputs": []
    }
  ]
}