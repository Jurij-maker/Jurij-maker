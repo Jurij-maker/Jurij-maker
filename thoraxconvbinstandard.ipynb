{
  "nbformat": 4,
  "nbformat_minor": 0,
  "metadata": {
    "colab": {
      "name": "thoraxconvbinstandard.ipynb",
      "provenance": [],
      "collapsed_sections": [],
      "mount_file_id": "1lZUOIO3sUjMCYd6JC1GaGyLEiDgrpUWJ",
      "authorship_tag": "ABX9TyN7aHJ2Vik/oEjpPnFT3Ysx",
      "include_colab_link": true
    },
    "kernelspec": {
      "name": "python3",
      "display_name": "Python 3"
    },
    "language_info": {
      "name": "python"
    }
  },
  "cells": [
    {
      "cell_type": "markdown",
      "metadata": {
        "id": "view-in-github",
        "colab_type": "text"
      },
      "source": [
        "<a href=\"https://colab.research.google.com/github/Jurij-maker/Jurij-maker/blob/main/thoraxconvbinstandard.ipynb\" target=\"_parent\"><img src=\"https://colab.research.google.com/assets/colab-badge.svg\" alt=\"Open In Colab\"/></a>"
      ]
    },
    {
      "cell_type": "code",
      "execution_count": 2,
      "metadata": {
        "id": "7PYLmJC7Us2k"
      },
      "outputs": [],
      "source": [
        ""
      ]
    },
    {
      "cell_type": "markdown",
      "source": [
        "Jurij Schaber\n",
        "einfaches convolutional network zur binären Klassifizierung\n",
        "von Pneumonien:"
      ],
      "metadata": {
        "id": "NE_W0mOuZ13v"
      }
    },
    {
      "cell_type": "markdown",
      "source": [
        "Importieren der Daten"
      ],
      "metadata": {
        "id": "s2hLji9UaN0K"
      }
    },
    {
      "cell_type": "code",
      "metadata": {
        "id": "NR_M9nWN-K8B"
      },
      "source": [
        "import os\n",
        "\n",
        "# Directory with our training data normal thorax\n",
        "train_normal = os.path.join('/content/drive/MyDrive/chest_xray/train/NORMAL')\n",
        "\n",
        "# Directory with our training data pneumonia\n",
        "train_pneumonia = os.path.join('/content/drive/MyDrive/chest_xray/train/PNEUMONIA')\n",
        "\n",
        "# Directory with our validation data normal thorax\n",
        "valid_normal = os.path.join('/content/drive/MyDrive/chest_xray/val/NORMAL')\n",
        "\n",
        "# Directory with our validation data pneumonia\n",
        "valid_pneumonia = os.path.join('/content/drive/MyDrive/chest_xray/val/PNEUMONIA')\n",
        "\n",
        "# Directory with our validation data normal thorax\n",
        "test_normal = os.path.join('/content/drive/MyDrive/chest_xray/test/NORMAL')\n",
        "\n",
        "# Directory with our validation data pneumonia\n",
        "test_pneumonia = os.path.join('/content/drive/MyDrive/chest_xray/test/PNEUMONIA')\n",
        "\n"
      ],
      "execution_count": 2,
      "outputs": []
    },
    {
      "cell_type": "markdown",
      "source": [
        "# Ausgabe der Namen einzelner Aufnahmen am Beispiel train-normal"
      ],
      "metadata": {
        "id": "QvC3O_fMcb1X"
      }
    },
    {
      "cell_type": "code",
      "source": [
        "train_normalnames = os.listdir(train_normal)\n",
        "print(train_normalnames[:10])"
      ],
      "metadata": {
        "colab": {
          "base_uri": "https://localhost:8080/"
        },
        "id": "8-61XfoKbwS7",
        "outputId": "10ad5792-67dc-4cef-a301-662ffc52f551"
      },
      "execution_count": 5,
      "outputs": [
        {
          "output_type": "stream",
          "name": "stdout",
          "text": [
            "['IM-0529-0001.jpeg', 'IM-0512-0001.jpeg', 'IM-0523-0001-0002.jpeg', 'IM-0531-0001-0001.jpeg', 'IM-0510-0001.jpeg', 'IM-0511-0001.jpeg', 'IM-0519-0001.jpeg', 'IM-0509-0001.jpeg', 'IM-0515-0001.jpeg', 'IM-0523-0001-0001.jpeg']\n"
          ]
        }
      ]
    },
    {
      "cell_type": "markdown",
      "source": [
        "Anzahl der Aufnahmen:"
      ],
      "metadata": {
        "id": "EIiXpalxdXmK"
      }
    },
    {
      "cell_type": "code",
      "source": [
        "print('total training images normal:', len(os.listdir(train_normal)))\n",
        "print('total training images pneumonia:', len(os.listdir(train_pneumonia)))\n",
        "\n",
        "print('total validation images normal:', len(os.listdir(valid_normal)))\n",
        "print('total validation images pneumonia:', len(os.listdir(valid_pneumonia)))\n",
        "\n",
        "print('total test images normal:', len(os.listdir(test_normal)))\n",
        "print('total test images pneumonia:', len(os.listdir(test_pneumonia)))"
      ],
      "metadata": {
        "colab": {
          "base_uri": "https://localhost:8080/"
        },
        "id": "1QvI_kcTdc-N",
        "outputId": "043ec680-6498-4dca-9129-9f5eaabd1a65"
      },
      "execution_count": 7,
      "outputs": [
        {
          "output_type": "stream",
          "name": "stdout",
          "text": [
            "total training images normal: 1342\n",
            "total training images pneumonia: 3876\n",
            "total validation images normal: 9\n",
            "total validation images pneumonia: 9\n",
            "total test images normal: 234\n",
            "total test images pneumonia: 390\n"
          ]
        }
      ]
    }
  ]
}